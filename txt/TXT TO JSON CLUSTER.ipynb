{
 "cells": [
  {
   "cell_type": "code",
   "execution_count": 86,
   "metadata": {},
   "outputs": [],
   "source": [
    "## https://onlinecsvtools.com/convert-csv-to-tsv\n",
    "\n",
    "from clustergrammer import Network\n",
    "net = Network()\n",
    "net.load_file('in.tsv')"
   ]
  },
  {
   "cell_type": "code",
   "execution_count": 87,
   "metadata": {},
   "outputs": [
    {
     "name": "stdout",
     "output_type": "stream",
     "text": [
      "make_clust method will be deprecated in next version, please use cluster method.\n"
     ]
    }
   ],
   "source": [
    "# calculate clustering\n",
    "net.make_clust()"
   ]
  },
  {
   "cell_type": "code",
   "execution_count": 88,
   "metadata": {},
   "outputs": [],
   "source": [
    "# write visualization json to file\n",
    "net.write_json_to_file('viz', 'p3.json', 'indent')"
   ]
  },
  {
   "cell_type": "code",
   "execution_count": null,
   "metadata": {},
   "outputs": [],
   "source": []
  },
  {
   "cell_type": "code",
   "execution_count": 6,
   "metadata": {},
   "outputs": [],
   "source": [
    "##Con este se generó el ejemplo para el profe y el doctor marín\n",
    "from clustergrammer import Network\n",
    "net = Network()\n",
    "net.load_file('/home/pedro/Desktop/Código/estandarData.tsv')"
   ]
  },
  {
   "cell_type": "code",
   "execution_count": 7,
   "metadata": {},
   "outputs": [
    {
     "name": "stdout",
     "output_type": "stream",
     "text": [
      "make_clust method will be deprecated in next version, please use cluster method.\n"
     ]
    }
   ],
   "source": [
    "##Con este se generó el ejemplo para el profe y el doctor marín\n",
    "# calculate clustering\n",
    "net.make_clust()"
   ]
  },
  {
   "cell_type": "code",
   "execution_count": 8,
   "metadata": {},
   "outputs": [],
   "source": [
    "##Con este se generó el ejemplo para el profe y el doctor marín\n",
    "net.write_json_to_file('viz', 'estandarData.json', 'indent')"
   ]
  },
  {
   "cell_type": "code",
   "execution_count": null,
   "metadata": {},
   "outputs": [],
   "source": []
  },
  {
   "cell_type": "code",
   "execution_count": 9,
   "metadata": {},
   "outputs": [
    {
     "name": "stdout",
     "output_type": "stream",
     "text": [
      "make_clust method will be deprecated in next version, please use cluster method.\n"
     ]
    },
    {
     "name": "stderr",
     "output_type": "stream",
     "text": [
      "ERROR:root:Internal Python error in the inspect module.\n",
      "Below is the traceback from this internal error.\n",
      "\n"
     ]
    },
    {
     "name": "stdout",
     "output_type": "stream",
     "text": [
      "Traceback (most recent call last):\n",
      "  File \"/home/pedro/python3.5/p3.5/lib/python3.5/site-packages/IPython/core/interactiveshell.py\", line 3267, in run_code\n",
      "    exec(code_obj, self.user_global_ns, self.user_ns)\n",
      "  File \"<ipython-input-9-c6e1cf9a7150>\", line 6, in <module>\n",
      "    net.write_json_to_file('viz', 'estandarDataCheck.json', 'indent')\n",
      "  File \"/home/pedro/python3.5/p3.5/lib/python3.5/site-packages/clustergrammer/__init__.py\", line 255, in write_json_to_file\n",
      "    export_data.write_json_to_file(self, net_type, filename, indent)\n",
      "  File \"/home/pedro/python3.5/p3.5/lib/python3.5/site-packages/clustergrammer/export_data.py\", line 48, in write_json_to_file\n",
      "    fw = open(filename, 'w')\n",
      "FileNotFoundError: [Errno 2] No such file or directory: 'estandarDataCheck.json'\n",
      "\n",
      "During handling of the above exception, another exception occurred:\n",
      "\n",
      "Traceback (most recent call last):\n",
      "  File \"/home/pedro/python3.5/p3.5/lib/python3.5/site-packages/IPython/core/interactiveshell.py\", line 2018, in showtraceback\n",
      "    stb = value._render_traceback_()\n",
      "AttributeError: 'FileNotFoundError' object has no attribute '_render_traceback_'\n",
      "\n",
      "During handling of the above exception, another exception occurred:\n",
      "\n",
      "Traceback (most recent call last):\n",
      "  File \"/home/pedro/python3.5/p3.5/lib/python3.5/site-packages/IPython/core/ultratb.py\", line 1095, in get_records\n",
      "    return _fixed_getinnerframes(etb, number_of_lines_of_context, tb_offset)\n",
      "  File \"/home/pedro/python3.5/p3.5/lib/python3.5/site-packages/IPython/core/ultratb.py\", line 313, in wrapped\n",
      "    return f(*args, **kwargs)\n",
      "  File \"/home/pedro/python3.5/p3.5/lib/python3.5/site-packages/IPython/core/ultratb.py\", line 347, in _fixed_getinnerframes\n",
      "    records = fix_frame_records_filenames(inspect.getinnerframes(etb, context))\n",
      "  File \"/usr/lib/python3.5/inspect.py\", line 1453, in getinnerframes\n",
      "    frameinfo = (tb.tb_frame,) + getframeinfo(tb, context)\n",
      "  File \"/usr/lib/python3.5/inspect.py\", line 1410, in getframeinfo\n",
      "    filename = getsourcefile(frame) or getfile(frame)\n",
      "  File \"/usr/lib/python3.5/inspect.py\", line 672, in getsourcefile\n",
      "    if getattr(getmodule(object, filename), '__loader__', None) is not None:\n",
      "  File \"/usr/lib/python3.5/inspect.py\", line 701, in getmodule\n",
      "    file = getabsfile(object, _filename)\n",
      "  File \"/usr/lib/python3.5/inspect.py\", line 685, in getabsfile\n",
      "    return os.path.normcase(os.path.abspath(_filename))\n",
      "  File \"/home/pedro/python3.5/p3.5/lib/python3.5/posixpath.py\", line 361, in abspath\n",
      "    cwd = os.getcwd()\n",
      "FileNotFoundError: [Errno 2] No such file or directory\n"
     ]
    },
    {
     "ename": "FileNotFoundError",
     "evalue": "[Errno 2] No such file or directory: 'estandarDataCheck.json'",
     "output_type": "error",
     "traceback": [
      "\u001b[0;31m---------------------------------------------------------------------------\u001b[0m"
     ]
    }
   ],
   "source": [
    "##Con este se generó el ejemplo para el profe y el doctor marín\n",
    "from clustergrammer import Network\n",
    "net = Network()\n",
    "net.load_file('/home/pedro/Desktop/Codigo/Capa_Adaptacion/estandarDataCheck.tsv')\n",
    "net.make_clust()\n",
    "net.write_json_to_file('viz', 'estandarDataCheck.json', 'indent')"
   ]
  },
  {
   "cell_type": "code",
   "execution_count": null,
   "metadata": {},
   "outputs": [],
   "source": []
  }
 ],
 "metadata": {
  "kernelspec": {
   "display_name": "p3.5",
   "language": "python",
   "name": "p3.5"
  },
  "language_info": {
   "codemirror_mode": {
    "name": "ipython",
    "version": 3
   },
   "file_extension": ".py",
   "mimetype": "text/x-python",
   "name": "python",
   "nbconvert_exporter": "python",
   "pygments_lexer": "ipython3",
   "version": "3.5.2"
  }
 },
 "nbformat": 4,
 "nbformat_minor": 2
}
